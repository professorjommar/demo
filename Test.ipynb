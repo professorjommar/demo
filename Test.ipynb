{
  "nbformat": 4,
  "nbformat_minor": 0,
  "metadata": {
    "colab": {
      "name": "Test",
      "provenance": [],
      "authorship_tag": "ABX9TyMaUT5W5m3P1jPYVUKhyx3Y"
    },
    "kernelspec": {
      "name": "python3",
      "display_name": "Python 3"
    }
  },
  "cells": [
    {
      "cell_type": "code",
      "metadata": {
        "id": "InMS_W0pqHhK",
        "colab_type": "code",
        "outputId": "c1111917-bc84-41e4-f3a7-901b330e1d54",
        "colab": {
          "base_uri": "https://localhost:8080/",
          "height": 36
        }
      },
      "source": [
        "name = 'Professor J'\n",
        "print(name)"
      ],
      "execution_count": 0,
      "outputs": [
        {
          "output_type": "stream",
          "text": [
            "Professor J\n"
          ],
          "name": "stdout"
        }
      ]
    }
  ]
}